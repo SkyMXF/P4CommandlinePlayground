{
 "cells": [
  {
   "cell_type": "code",
   "execution_count": null,
   "metadata": {
    "collapsed": false,
    "jupyter": {
     "outputs_hidden": false
    }
   },
   "outputs": [],
   "source": [
    "# Install P4Python API.\n",
    "!pip install p4python"
   ]
  },
  {
   "cell_type": "code",
   "execution_count": null,
   "metadata": {
    "collapsed": false,
    "jupyter": {
     "outputs_hidden": false
    }
   },
   "outputs": [],
   "source": [
    "# Set P4 Server, User, and Workspace in config.json, or set them manually below.\n",
    "import os\n",
    "import json\n",
    "\n",
    "P4_SERVER = \"\"\n",
    "P4_USER = \"\"\n",
    "P4_WORKSPACE = \"\"\n",
    "\n",
    "if os.path.exists(\"config.json\"):\n",
    "    with open(\"config.json\", \"r\") as f:\n",
    "        config = json.load(f)\n",
    "        P4_SERVER = config[\"P4_SERVER\"]\n",
    "        P4_USER = config[\"P4_USER\"]\n",
    "        P4_WORKSPACE = config[\"P4_WORKSPACE\"]\n",
    "\n",
    "print(\"P4 Server: \" + P4_SERVER)\n",
    "print(\"P4 User: \" + P4_USER)\n",
    "print(\"P4 Workspace: \" + P4_WORKSPACE)"
   ]
  },
  {
   "cell_type": "code",
   "execution_count": null,
   "metadata": {
    "collapsed": false,
    "jupyter": {
     "outputs_hidden": false
    }
   },
   "outputs": [],
   "source": [
    "# Build P4 Connection.\n",
    "from P4 import P4, P4Exception\n",
    "\n",
    "p4_client = P4()\n",
    "p4_client.port = P4_SERVER\n",
    "p4_client.user = P4_USER\n",
    "p4_client.client = P4_WORKSPACE\n",
    "p4_client.charset = \"utf8\"\n",
    "\n",
    "p4_client.connect()"
   ]
  },
  {
   "cell_type": "code",
   "execution_count": null,
   "metadata": {
    "collapsed": false,
    "jupyter": {
     "outputs_hidden": false
    }
   },
   "outputs": [],
   "source": [
    "# Try P4 command with P4Python API here.\n",
    "\n",
    "result = p4_client.run(\"info\")\n",
    "print(result)\n",
    "result = p4_client.run(\"changes\", \"--me\", \"-c\", P4_WORKSPACE, \"-L\", \"-s\", \"pending\")\n",
    "print(result)"
   ]
  },
  {
   "cell_type": "code",
   "execution_count": null,
   "metadata": {},
   "outputs": [],
   "source": [
    "# Try P4 command with P4Python API, and get text output here.\n",
    "\n",
    "tagged = p4_client.tagged\n",
    "p4_client.tagged = False\n",
    "result = p4_client.run(\"info\")\n",
    "print(result)\n",
    "p4_client.tagged = tagged"
   ]
  },
  {
   "cell_type": "code",
   "execution_count": null,
   "outputs": [],
   "source": [
    "# Try P4 command with Commandline here.\n",
    "\n",
    "!p4 -p {P4_SERVER} -u {P4_USER} -c {P4_WORKSPACE} info"
   ],
   "metadata": {
    "collapsed": false
   }
  }
 ],
 "metadata": {
  "kernelspec": {
   "display_name": "Python 3 (ipykernel)",
   "language": "python",
   "name": "python3"
  },
  "language_info": {
   "codemirror_mode": {
    "name": "ipython",
    "version": 3
   },
   "file_extension": ".py",
   "mimetype": "text/x-python",
   "name": "python",
   "nbconvert_exporter": "python",
   "pygments_lexer": "ipython3",
   "version": "3.9.0"
  }
 },
 "nbformat": 4,
 "nbformat_minor": 4
}
